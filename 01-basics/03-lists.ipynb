{
 "cells": [
  {
   "cell_type": "markdown",
   "metadata": {},
   "source": [
    "# Trabalhando com indexação e cálculos"
   ]
  },
  {
   "cell_type": "code",
   "execution_count": 154,
   "metadata": {},
   "outputs": [
    {
     "name": "stdout",
     "output_type": "stream",
     "text": [
      "Total de cliente na 1° semana: 1056\n",
      "Total de cliente na 2° semana: 1164\n",
      "Total de cliente no mês: 4529\n",
      "Média diária de clientes: 150\n",
      "Melhor dia: 174\n",
      "Pior dia: 126\n"
     ]
    }
   ],
   "source": [
    "# Declarando uma lista que representa o número de clientes por dia no mês\n",
    "num_clientes = [137, 147, 135, 128, 170, 174, 165, 146, 126, 159,\n",
    "                 141, 148, 132, 147, 168, 153, 170, 161, 148, 152,\n",
    "                 141, 151, 131, 149, 164, 163, 143, 143, 166, 171]\n",
    "\n",
    "# Realizando cálculos\n",
    "total_semana1 = sum(num_clientes[:7])\n",
    "total_semana2 = sum(num_clientes[6:14])\n",
    "total_mes = sum(num_clientes)\n",
    "media_diaria = int(sum(num_clientes) / len(num_clientes)) # eu poderia utilizar outros métodos, como a biblioteca statistics \n",
    "\n",
    "maximo = max(num_clientes)\n",
    "minimo = min(num_clientes)\n",
    "\n",
    "print('Total de cliente na 1° semana:', total_semana1)\n",
    "print('Total de cliente na 2° semana:', total_semana2)\n",
    "print('Total de cliente no mês:', total_mes)\n",
    "print('Média diária de clientes:', media_diaria)\n",
    "print('Melhor dia:', maximo)\n",
    "print('Pior dia:',minimo)"
   ]
  },
  {
   "cell_type": "code",
   "execution_count": 155,
   "metadata": {},
   "outputs": [
    {
     "name": "stdout",
     "output_type": "stream",
     "text": [
      "Itens do menu v0: ['Feijão tropeiro', 'Peroá frito', 'Tutu de feijão', 'Bolinho de bacalhau']\n",
      "Quantidade de itens 4\n",
      "-----------------------\n",
      "Itens do menu v1: ['Feijão tropeiro', 'Tutu de feijão', 'Bolinho de bacalhau', 'Porção Fritas', 'Arroz']\n",
      "Quantidade de opções 5\n"
     ]
    }
   ],
   "source": [
    "# Declarando uma lista que representa o menu de um restaurante brasileiro\n",
    "menu_restaurante = ['Feijão tropeiro','Peroá frito','Tutu de feijão','Bolinho de bacalhau']\n",
    "\n",
    "print('Itens do menu v0:', menu_restaurante)\n",
    "print('Quantidade de itens',len(menu_restaurante))\n",
    "\n",
    "# Adicionando e removendo itens da lista\n",
    "menu_restaurante.append('Porção Fritas')\n",
    "menu_restaurante.append('Arroz')# adicionando\n",
    "menu_restaurante.remove('Peroá frito') # removendo\n",
    "\n",
    "print('-----------------------')\n",
    "print('Itens do menu v1:', menu_restaurante)\n",
    "print('Quantidade de opções',len(menu_restaurante))"
   ]
  },
  {
   "cell_type": "markdown",
   "metadata": {},
   "source": [
    "# Transformando tipo string em list"
   ]
  },
  {
   "cell_type": "code",
   "execution_count": 156,
   "metadata": {},
   "outputs": [
    {
     "name": "stdout",
     "output_type": "stream",
     "text": [
      "A.B.C.D.E.F.G.H.I.J.K.L.M.N.O.P.Q.R.S.T.U.V.W.X.Y.Z\n",
      "<class 'str'>\n",
      "-----------------------\n",
      "['A', 'B', 'C', 'D', 'E', 'F', 'G', 'H', 'I', 'J', 'K', 'L', 'M', 'N', 'O', 'P', 'Q', 'R', 'S', 'T', 'U', 'V', 'W', 'X', 'Y', 'Z']\n",
      "<class 'type'>\n"
     ]
    }
   ],
   "source": [
    "alfabeto = \"A.B.C.D.E.F.G.H.I.J.K.L.M.N.O.P.Q.R.S.T.U.V.W.X.Y.Z\"\n",
    "print(alfabeto)\n",
    "print(type(alfabeto))\n",
    "print('-----------------------')\n",
    "\n",
    "alfabeto_formatado = alfabeto.split('.')\n",
    "print(alfabeto_formatado)\n",
    "print(type)"
   ]
  },
  {
   "cell_type": "markdown",
   "metadata": {},
   "source": [
    "# Desafio: código que avalia as notas de uma prova do ensino médio.\n",
    "\n",
    "Nota mínima = 5\n",
    "\n",
    "Nota para recuperação = mínima - 1"
   ]
  },
  {
   "cell_type": "code",
   "execution_count": 157,
   "metadata": {},
   "outputs": [
    {
     "name": "stdout",
     "output_type": "stream",
     "text": [
      "Alunos Aprovados: 61.9 %\n",
      "Alunos de Recuperação: 9.52 %\n",
      "Alunos Reprovados: 28.57 %\n"
     ]
    }
   ],
   "source": [
    "def percentual_aprovado(notas):\n",
    "    valida_nota = [i>=5 for i in notas] # transformando a lista nota_provas em uma lista booleana\n",
    "    \n",
    "    percentual_aprovado = (valida_nota.count(True) / len(valida_nota)) * 100\n",
    "    return percentual_aprovado\n",
    "\n",
    "def percentual_recuperacao(notas):\n",
    "    valida_nota = [i>=4 and i<5 for i in notas] # transformando a lista nota_provas em uma lista booleana\n",
    "    \n",
    "    percentual_recuperacao = (valida_nota.count(True) / len(valida_nota)) * 100\n",
    "    return percentual_recuperacao\n",
    "\n",
    "def percentual_reprovado(notas):\n",
    "    valida_nota = [i<4 for i in notas] # transformando a lista nota_provas em uma lista booleana\n",
    "    \n",
    "    percentual_reprovado = (valida_nota.count(True) / len(valida_nota)) * 100\n",
    "    return percentual_reprovado\n",
    "\n",
    "nota_provas = [5, 3, 6, 7, 9, 8, 4, 1, 1, 5, 8, 6, 8, 4, 7, 2, 3, 8, 6, 2, 6] # poderia ser uma planilha da professora\n",
    "\n",
    "_percentual_aprovado = round(percentual_aprovado(nota_provas),2)\n",
    "_percentual_recuperacao = round(percentual_recuperacao(nota_provas),2)\n",
    "_percentual_reprovado = round(percentual_reprovado(nota_provas),2)\n",
    "\n",
    "print('Alunos Aprovados:', _percentual_aprovado, '%')\n",
    "print('Alunos de Recuperação:', _percentual_recuperacao, '%')\n",
    "print('Alunos Reprovados:', _percentual_reprovado, '%')"
   ]
  },
  {
   "cell_type": "markdown",
   "metadata": {},
   "source": [
    "Ainda no desafio: após alguns estudos percebi que posso otimizar ainda mais o código."
   ]
  },
  {
   "cell_type": "code",
   "execution_count": 158,
   "metadata": {},
   "outputs": [
    {
     "name": "stdout",
     "output_type": "stream",
     "text": [
      "Alunos Aprovados: 61.9 %\n",
      "Alunos de Recuperação: 9.52 %\n",
      "Alunos Reprovados: 28.57 %\n"
     ]
    }
   ],
   "source": [
    "def calcular_percentual(notas, condicao):\n",
    "    validar_nota = [condicao(i) for i in notas]\n",
    "    percentual = validar_nota.count(True) / len(validar_nota) * 100\n",
    "    return round(percentual, 2)\n",
    "\n",
    "nota_provas = [5, 3, 6, 7, 9, 8, 4, 1, 1, 5, 8, 6, 8, 4, 7, 2, 3, 8, 6, 2, 6] # poderia ser uma planilha da professora\n",
    "\n",
    "percentual_aprovado = calcular_percentual(nota_provas, lambda x: x>5)\n",
    "percentual_recuperacao = calcular_percentual(nota_provas, lambda x: 4 <= x < 5)\n",
    "percentual_reprovado = calcular_percentual(nota_provas, lambda x: x < 4)\n",
    "\n",
    "print('Alunos Aprovados:', _percentual_aprovado, '%')\n",
    "print('Alunos de Recuperação:', _percentual_recuperacao, '%')\n",
    "print('Alunos Reprovados:', _percentual_reprovado, '%')"
   ]
  },
  {
   "cell_type": "code",
   "execution_count": null,
   "metadata": {},
   "outputs": [],
   "source": []
  }
 ],
 "metadata": {
  "kernelspec": {
   "display_name": "Python 3",
   "language": "python",
   "name": "python3"
  },
  "language_info": {
   "codemirror_mode": {
    "name": "ipython",
    "version": 3
   },
   "file_extension": ".py",
   "mimetype": "text/x-python",
   "name": "python",
   "nbconvert_exporter": "python",
   "pygments_lexer": "ipython3",
   "version": "3.11.2"
  }
 },
 "nbformat": 4,
 "nbformat_minor": 2
}
