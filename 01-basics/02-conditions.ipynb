{
 "cells": [
  {
   "cell_type": "markdown",
   "metadata": {},
   "source": [
    "# Condicionais (If, Elif, Else)"
   ]
  },
  {
   "cell_type": "markdown",
   "metadata": {},
   "source": [
    "## Exemplo 1\n",
    "\n",
    "O Serviço Nacional de Saúde (SNS) afirma que a temperatura limite para identificar o estado febril do ser humano depende do método de medição. \n",
    "Fonte: https://www.sns24.gov.pt/tema/sintomas/febre/#qual-e-a-temperatura-corporal-normal\n",
    "\n",
    "Assim, eu criei uma função que avalia a temperatura corporal dos pacientes.\n",
    "\n",
    "Obs.: Neste código eu aprendi a utilizar **dicionários**."
   ]
  },
  {
   "cell_type": "code",
   "execution_count": 15,
   "metadata": {},
   "outputs": [
    {
     "name": "stdout",
     "output_type": "stream",
     "text": [
      "Temperatura normal.\n",
      "Febre!\n",
      "Febre!\n",
      "Temperatura normal.\n"
     ]
    }
   ],
   "source": [
    "# Declarando a função que depende de duas variáveis: o método de medição e a temperatura medida.\n",
    "def verificar_temp(metodo , temp):\n",
    "    # Declarando um dicionário para os tipos de medições e seus respectivos limites de temperatura\n",
    "    limite_temp = {\n",
    "        'Retal' : 38,\n",
    "        'Axilar' : 37.6,\n",
    "        'Timpânica' : 37.8,\n",
    "        'Oral' : 37.6\n",
    "    }\n",
    "    \n",
    "    # Buscando o limite dentro do dicionário\n",
    "    limite = limite_temp.get(metodo, None)\n",
    "\n",
    "    # Condição que avalia se a temperatura está dentro do limite\n",
    "    if limite is not None and temp >= limite:\n",
    "        print('Febre!')\n",
    "    else:\n",
    "        print('Temperatura normal.')\n",
    "    \n",
    "# Testando o código\n",
    "verificar_temp('Retal', 37.7)\n",
    "verificar_temp('Axilar', 37.7)\n",
    "verificar_temp('Timpânica', 37.9)\n",
    "verificar_temp('Oral', 37.4)"
   ]
  },
  {
   "cell_type": "markdown",
   "metadata": {},
   "source": [
    "+ exemplos em breve"
   ]
  }
 ],
 "metadata": {
  "kernelspec": {
   "display_name": "Python 3",
   "language": "python",
   "name": "python3"
  },
  "language_info": {
   "codemirror_mode": {
    "name": "ipython",
    "version": 3
   },
   "file_extension": ".py",
   "mimetype": "text/x-python",
   "name": "python",
   "nbconvert_exporter": "python",
   "pygments_lexer": "ipython3",
   "version": "3.11.2"
  }
 },
 "nbformat": 4,
 "nbformat_minor": 2
}
